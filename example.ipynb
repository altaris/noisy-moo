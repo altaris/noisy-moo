{
 "metadata": {
  "language_info": {
   "codemirror_mode": {
    "name": "ipython",
    "version": 3
   },
   "file_extension": ".py",
   "mimetype": "text/x-python",
   "name": "python",
   "nbconvert_exporter": "python",
   "pygments_lexer": "ipython3",
   "version": "3.8.2"
  },
  "orig_nbformat": 2,
  "kernelspec": {
   "name": "python382jvsc74a57bd0fce3d0f7090ed474c1698771235aa725c227d11bb797bd2a1e85689f49854568",
   "display_name": "Python 3.8.2 64-bit ('venv')"
  }
 },
 "nbformat": 4,
 "nbformat_minor": 2,
 "cells": [
  {
   "source": [
    "In this notebook, we consider a ZDT1 problem with Gaussian noise, and benckmark two \"denoising\" methods:\n",
    "* a naive average method,\n",
    "* the KNN-Avg algorithm."
   ],
   "cell_type": "markdown",
   "metadata": {}
  },
  {
   "cell_type": "code",
   "execution_count": 1,
   "metadata": {},
   "outputs": [],
   "source": [
    "from pymoo.algorithms.nsga2 import NSGA2\n",
    "from pymoo.problems.multi import ZDT1\n",
    "from pymoo.factory import (\n",
    "    get_crossover,\n",
    "    get_mutation,\n",
    "    get_sampling,\n",
    "    get_termination,\n",
    ")\n",
    "\n",
    "import nmoo"
   ]
  },
  {
   "source": [
    "The first step is to construct our problem pipelines. We start with a `ZDT1` instance, that we wrap in a `WrappedProblem`. In nmoo, `WrappedProblem` is the base class to modify problems, in our case adding and removing noise. Additionally, `WrappedProblem` and classes deriving from it maintain a history of every call made to their `_evaluate` method (see the [pymoo documentation](https://pymoo.org/getting_started.html#By-Class))."
   ],
   "cell_type": "markdown",
   "metadata": {}
  },
  {
   "cell_type": "code",
   "execution_count": 3,
   "metadata": {},
   "outputs": [],
   "source": [
    "zdt1 = ZDT1()\n",
    "wrapped_zdt1 = nmoo.utils.WrappedProblem(zdt1)"
   ]
  },
  {
   "source": [
    "Then, we add a Gaussian noise of type `N(0, 0.25)`, and our two candidate denoising algorithms."
   ],
   "cell_type": "markdown",
   "metadata": {}
  },
  {
   "cell_type": "code",
   "execution_count": 4,
   "metadata": {},
   "outputs": [
    {
     "output_type": "error",
     "ename": "NameError",
     "evalue": "name 'noisy_zdt1' is not defined",
     "traceback": [
      "\u001b[0;31m---------------------------------------------------------------------------\u001b[0m",
      "\u001b[0;31mNameError\u001b[0m                                 Traceback (most recent call last)",
      "\u001b[0;32m<ipython-input-4-a071370cb5e2>\u001b[0m in \u001b[0;36m<module>\u001b[0;34m\u001b[0m\n\u001b[0;32m----> 1\u001b[0;31m \u001b[0mavg_zdt1\u001b[0m \u001b[0;34m=\u001b[0m \u001b[0mnmoo\u001b[0m\u001b[0;34m.\u001b[0m\u001b[0mdenoisers\u001b[0m\u001b[0;34m.\u001b[0m\u001b[0mAverage\u001b[0m\u001b[0;34m(\u001b[0m\u001b[0mnoisy_zdt1\u001b[0m\u001b[0;34m,\u001b[0m \u001b[0mn_evaluations\u001b[0m\u001b[0;34m=\u001b[0m\u001b[0;36m5\u001b[0m\u001b[0;34m)\u001b[0m\u001b[0;34m\u001b[0m\u001b[0;34m\u001b[0m\u001b[0m\n\u001b[0m\u001b[1;32m      2\u001b[0m \u001b[0;34m\u001b[0m\u001b[0m\n\u001b[1;32m      3\u001b[0m knnavg_zdt1 = nmoo.denoisers.KNNAvg(\n\u001b[1;32m      4\u001b[0m     \u001b[0mnoisy_zdt1\u001b[0m\u001b[0;34m,\u001b[0m\u001b[0;34m\u001b[0m\u001b[0;34m\u001b[0m\u001b[0m\n\u001b[1;32m      5\u001b[0m     \u001b[0mmax_distance\u001b[0m\u001b[0;34m=\u001b[0m\u001b[0;36m1.0\u001b[0m\u001b[0;34m,\u001b[0m\u001b[0;34m\u001b[0m\u001b[0;34m\u001b[0m\u001b[0m\n",
      "\u001b[0;31mNameError\u001b[0m: name 'noisy_zdt1' is not defined"
     ]
    }
   ],
   "source": [
    "noisy_zdt1 = nmoo.noises.GaussianNoise(wrapped_zdt1, {\"F\": (0.0, 0.25)})\n",
    "\n",
    "avg_zdt1 = nmoo.denoisers.Average(noisy_zdt1, n_evaluations=5)\n",
    "\n",
    "knnavg_zdt1 = nmoo.denoisers.KNNAvg(\n",
    "    noisy_zdt1,\n",
    "    max_distance=1.0,\n",
    "    n_neighbors=10,\n",
    ")"
   ]
  },
  {
   "cell_type": "code",
   "execution_count": null,
   "metadata": {},
   "outputs": [],
   "source": []
  }
 ]
}