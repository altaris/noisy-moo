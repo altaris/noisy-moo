{
 "cells": [
  {
   "cell_type": "markdown",
   "metadata": {},
   "source": [
    "In this notebook, we consider a ZDT1 problem with Gaussian noise, and benckmark two \"denoising\" methods:\n",
    "* a naive average method,\n",
    "* the KNN-Avg algorithm."
   ]
  },
  {
   "cell_type": "code",
   "execution_count": 1,
   "metadata": {},
   "outputs": [],
   "source": [
    "import nmoo"
   ]
  },
  {
   "cell_type": "markdown",
   "metadata": {},
   "source": [
    "The first step is to construct our problem pipelines. We start with a `ZDT1` instance, that we wrap in a `ProblemWrapper`. In nmoo, `ProblemWrapper` is the base class to modify problems, in our case adding and removing noise. Additionally, `ProblemWrapper` and classes deriving from it maintain a history of every call made to their `_evaluate` method (see the [pymoo documentation](https://pymoo.org/getting_started.html#By-Class)).\n",
    "\n",
    "Next, we add a Gaussian noise of type `N(0, 0.25)` and the averaging algorithm."
   ]
  },
  {
   "cell_type": "code",
   "execution_count": 2,
   "metadata": {},
   "outputs": [],
   "source": [
    "from pymoo.problems.multi import ZDT1\n",
    "import numpy as np\n",
    "\n",
    "zdt1 = ZDT1()\n",
    "wrapped_zdt1 = nmoo.WrappedProblem(zdt1)\n",
    "mean = np.array([0, 0])\n",
    "covariance = np.array([[1., -.5], [-.5, 1]])\n",
    "noisy_zdt1 = nmoo.noises.GaussianNoise(\n",
    "    wrapped_zdt1, \n",
    "    {\"F\": (mean, covariance)},\n",
    ")\n",
    "avg_zdt1 = nmoo.denoisers.ResampleAverage(noisy_zdt1, n_evaluations=10)"
   ]
  },
  {
   "cell_type": "markdown",
   "metadata": {},
   "source": [
    "We construct a similar pipeline for the KNN-Avg algorithm. Note that parts of\n",
    "an already existing pipeline can be reused."
   ]
  },
  {
   "cell_type": "code",
   "execution_count": 3,
   "metadata": {},
   "outputs": [],
   "source": [
    "\n",
    "knnavg_zdt1 = nmoo.denoisers.KNNAvg(\n",
    "    noisy_zdt1,\n",
    "    distance_weight_type=\"squared\",\n",
    "    max_distance=1.0,\n",
    "    n_neighbors=100,\n",
    ")"
   ]
  },
  {
   "cell_type": "markdown",
   "metadata": {},
   "source": [
    "Now, we setup an algorithm that will try and solve our `avg_zdt1` and `knnavg_zdt1` problems."
   ]
  },
  {
   "cell_type": "code",
   "execution_count": 4,
   "metadata": {},
   "outputs": [],
   "source": [
    "from pymoo.algorithms.moo.nsga2 import NSGA2\n",
    "\n",
    "nsga2 = NSGA2()"
   ]
  },
  {
   "cell_type": "markdown",
   "metadata": {},
   "source": [
    "Finally, we setup our benchmark. It will run NSGA2 against `avg_zdt1` and\n",
    "`knnavg_zdt1` tree times each. Additionally, we specify a Pareto front\n",
    "population to measure the performance. It no Pareto front is specified (or\n",
    "known), performance indicators will use one automatically calculated based on\n",
    "the results of the benchmark.\n",
    "\n",
    "Since the `avg` problem evaluates the underlying noisy `ZDT1` problem 10 times,\n",
    "we apply a penalty of 10, meaning that every call to `avg.eval` will count as\n",
    "10 calls."
   ]
  },
  {
   "cell_type": "code",
   "execution_count": 5,
   "metadata": {},
   "outputs": [],
   "source": [
    "from pymoo.factory import get_termination\n",
    "\n",
    "pareto_front = zdt1.pareto_front(100)\n",
    "\n",
    "benchmark = nmoo.benchmark.Benchmark(\n",
    "    output_dir_path=\"./out\",\n",
    "    problems={\n",
    "        \"knnavg\": {\n",
    "            \"problem\": knnavg_zdt1,\n",
    "            \"pareto_front\": pareto_front,\n",
    "        },\n",
    "        \"avg\": {\n",
    "            \"problem\": avg_zdt1,\n",
    "            \"pareto_front\": pareto_front,\n",
    "            \"evaluator\": nmoo.evaluators.EvaluationPenaltyEvaluator(\"times\", 10),\n",
    "        },\n",
    "    },\n",
    "    algorithms={\n",
    "        \"nsga2\": {\n",
    "            \"algorithm\": nsga2,\n",
    "        },\n",
    "        \"nsga2_100\": {\n",
    "            \"algorithm\": nsga2,\n",
    "            \"termination\": get_termination(\"n_gen\", 100),\n",
    "        },\n",
    "    },\n",
    "    n_runs=3,\n",
    ")"
   ]
  },
  {
   "cell_type": "code",
   "execution_count": 6,
   "metadata": {},
   "outputs": [],
   "source": [
    "! rm out/*"
   ]
  },
  {
   "cell_type": "code",
   "execution_count": 7,
   "metadata": {},
   "outputs": [
    {
     "name": "stdout",
     "output_type": "stream",
     "text": [
      "[Parallel(n_jobs=-1)]: Using backend LokyBackend with 8 concurrent workers.\n",
      "[Parallel(n_jobs=-1)]: Done   1 tasks      | elapsed:  1.0min\n",
      "[Parallel(n_jobs=-1)]: Done   2 out of  12 | elapsed:  1.0min remaining:  5.2min\n",
      "[Parallel(n_jobs=-1)]: Done   3 out of  12 | elapsed:  1.1min remaining:  3.2min\n",
      "[Parallel(n_jobs=-1)]: Done   4 out of  12 | elapsed:  1.8min remaining:  3.5min\n",
      "[Parallel(n_jobs=-1)]: Done   5 out of  12 | elapsed:  1.8min remaining:  2.5min\n",
      "[Parallel(n_jobs=-1)]: Done   6 out of  12 | elapsed:  1.9min remaining:  1.9min\n",
      "[Parallel(n_jobs=-1)]: Done   7 out of  12 | elapsed:  1.9min remaining:  1.3min\n",
      "[Parallel(n_jobs=-1)]: Done   8 out of  12 | elapsed:  2.3min remaining:  1.2min\n",
      "[Parallel(n_jobs=-1)]: Done   9 out of  12 | elapsed:  2.4min remaining:   47.5s\n",
      "[Parallel(n_jobs=-1)]: Done  10 out of  12 | elapsed:  3.5min remaining:   41.4s\n",
      "[Parallel(n_jobs=-1)]: Done  12 out of  12 | elapsed:  4.9min remaining:    0.0s\n",
      "[Parallel(n_jobs=-1)]: Done  12 out of  12 | elapsed:  4.9min finished\n",
      "[Parallel(n_jobs=2)]: Using backend LokyBackend with 2 concurrent workers.\n",
      "[Parallel(n_jobs=2)]: Done   1 tasks      | elapsed:    1.8s\n",
      "[Parallel(n_jobs=2)]: Done   2 out of   4 | elapsed:    2.2s remaining:    2.2s\n",
      "[Parallel(n_jobs=2)]: Done   4 out of   4 | elapsed:    2.7s remaining:    0.0s\n",
      "[Parallel(n_jobs=2)]: Done   4 out of   4 | elapsed:    2.7s finished\n",
      "[Parallel(n_jobs=2)]: Using backend LokyBackend with 2 concurrent workers.\n",
      "[Parallel(n_jobs=2)]: Done   1 tasks      | elapsed:    4.9s\n",
      "[Parallel(n_jobs=2)]: Done   2 tasks      | elapsed:    4.9s\n",
      "[Parallel(n_jobs=2)]: Done   3 tasks      | elapsed:    6.4s\n",
      "[Parallel(n_jobs=2)]: Done   4 tasks      | elapsed:    7.9s\n",
      "[Parallel(n_jobs=2)]: Done   5 tasks      | elapsed:    9.3s\n",
      "[Parallel(n_jobs=2)]: Done   6 tasks      | elapsed:   10.8s\n",
      "[Parallel(n_jobs=2)]: Done   7 tasks      | elapsed:   12.2s\n",
      "[Parallel(n_jobs=2)]: Done   8 tasks      | elapsed:   13.6s\n",
      "[Parallel(n_jobs=2)]: Done   9 tasks      | elapsed:   14.0s\n",
      "[Parallel(n_jobs=2)]: Done  10 out of  12 | elapsed:   15.1s remaining:    3.0s\n",
      "[Parallel(n_jobs=2)]: Done  12 out of  12 | elapsed:   16.5s remaining:    0.0s\n",
      "[Parallel(n_jobs=2)]: Done  12 out of  12 | elapsed:   16.5s finished\n"
     ]
    }
   ],
   "source": [
    "benchmark.run(verbose=50)"
   ]
  },
  {
   "cell_type": "markdown",
   "metadata": {},
   "source": [
    "Results of the benchmark are automatically saved:"
   ]
  },
  {
   "cell_type": "code",
   "execution_count": 8,
   "metadata": {},
   "outputs": [
    {
     "name": "stdout",
     "output_type": "stream",
     "text": [
      "avg.nsga2.1.1-resample_avg.npz\n",
      "avg.nsga2.1.2-gaussian_noise.npz\n",
      "avg.nsga2.1.3-wrapped_problem.npz\n",
      "avg.nsga2.1.csv\n",
      "avg.nsga2.1.pi.csv\n",
      "avg.nsga2.1.pp.npz\n",
      "avg.nsga2.2.1-resample_avg.npz\n",
      "avg.nsga2.2.2-gaussian_noise.npz\n",
      "avg.nsga2.2.3-wrapped_problem.npz\n",
      "avg.nsga2.2.csv\n",
      "avg.nsga2.2.pi.csv\n",
      "avg.nsga2.2.pp.npz\n",
      "avg.nsga2.3.1-resample_avg.npz\n",
      "avg.nsga2.3.2-gaussian_noise.npz\n",
      "avg.nsga2.3.3-wrapped_problem.npz\n",
      "avg.nsga2.3.csv\n",
      "avg.nsga2.3.pi.csv\n",
      "avg.nsga2.3.pp.npz\n",
      "avg.nsga2.gpp.npz\n",
      "avg.nsga2_100.1.1-resample_avg.npz\n",
      "avg.nsga2_100.1.2-gaussian_noise.npz\n",
      "avg.nsga2_100.1.3-wrapped_problem.npz\n",
      "avg.nsga2_100.1.csv\n",
      "avg.nsga2_100.1.pi.csv\n",
      "avg.nsga2_100.1.pp.npz\n",
      "avg.nsga2_100.2.1-resample_avg.npz\n",
      "avg.nsga2_100.2.2-gaussian_noise.npz\n",
      "avg.nsga2_100.2.3-wrapped_problem.npz\n",
      "avg.nsga2_100.2.csv\n",
      "avg.nsga2_100.2.pi.csv\n",
      "avg.nsga2_100.2.pp.npz\n",
      "avg.nsga2_100.3.1-resample_avg.npz\n",
      "avg.nsga2_100.3.2-gaussian_noise.npz\n",
      "avg.nsga2_100.3.3-wrapped_problem.npz\n",
      "avg.nsga2_100.3.csv\n",
      "avg.nsga2_100.3.pi.csv\n",
      "avg.nsga2_100.3.pp.npz\n",
      "avg.nsga2_100.gpp.npz\n",
      "benchmark.csv\n",
      "knnavg.nsga2.1.1-knn_avg.npz\n",
      "knnavg.nsga2.1.2-gaussian_noise.npz\n",
      "knnavg.nsga2.1.3-wrapped_problem.npz\n",
      "knnavg.nsga2.1.csv\n",
      "knnavg.nsga2.1.pi.csv\n",
      "knnavg.nsga2.1.pp.npz\n",
      "knnavg.nsga2.2.1-knn_avg.npz\n",
      "knnavg.nsga2.2.2-gaussian_noise.npz\n",
      "knnavg.nsga2.2.3-wrapped_problem.npz\n",
      "knnavg.nsga2.2.csv\n",
      "knnavg.nsga2.2.pi.csv\n",
      "knnavg.nsga2.2.pp.npz\n",
      "knnavg.nsga2.3.1-knn_avg.npz\n",
      "knnavg.nsga2.3.2-gaussian_noise.npz\n",
      "knnavg.nsga2.3.3-wrapped_problem.npz\n",
      "knnavg.nsga2.3.csv\n",
      "knnavg.nsga2.3.pi.csv\n",
      "knnavg.nsga2.3.pp.npz\n",
      "knnavg.nsga2.gpp.npz\n",
      "knnavg.nsga2_100.1.1-knn_avg.npz\n",
      "knnavg.nsga2_100.1.2-gaussian_noise.npz\n",
      "knnavg.nsga2_100.1.3-wrapped_problem.npz\n",
      "knnavg.nsga2_100.1.csv\n",
      "knnavg.nsga2_100.1.pi.csv\n",
      "knnavg.nsga2_100.1.pp.npz\n",
      "knnavg.nsga2_100.2.1-knn_avg.npz\n",
      "knnavg.nsga2_100.2.2-gaussian_noise.npz\n",
      "knnavg.nsga2_100.2.3-wrapped_problem.npz\n",
      "knnavg.nsga2_100.2.csv\n",
      "knnavg.nsga2_100.2.pi.csv\n",
      "knnavg.nsga2_100.2.pp.npz\n",
      "knnavg.nsga2_100.3.1-knn_avg.npz\n",
      "knnavg.nsga2_100.3.2-gaussian_noise.npz\n",
      "knnavg.nsga2_100.3.3-wrapped_problem.npz\n",
      "knnavg.nsga2_100.3.csv\n",
      "knnavg.nsga2_100.3.pi.csv\n",
      "knnavg.nsga2_100.3.pp.npz\n",
      "knnavg.nsga2_100.gpp.npz\n"
     ]
    }
   ],
   "source": [
    "! ls ./out"
   ]
  },
  {
   "cell_type": "markdown",
   "metadata": {},
   "source": [
    "The benchmark results are saved in `benchmark.csv`. They can also be accessed by `benchmark._results`. The rest are problem call histories, named after the following scheme:\n",
    "```\n",
    "<problem_name>.<algorithm_name>.<n_run>.<level>-<layer_name>.npz\n",
    "```\n",
    "For example, `knnavg.nsga2_100.3.2-gaussian_noise.npz` is the `GaussianNoise`\n",
    "history (level 2) of the 3rd run of `NSGA2` (100 generations) on the `knnavg`\n",
    "pipeline. The Pareto populations of each run are stored in the \n",
    "```\n",
    "<problem_name>.<algorithm_name>.<n_run>.pp.npz\n",
    "```\n",
    "files, and the global Pareto population for a given problem-algorithm pair is\n",
    "stored in \n",
    "```\n",
    "<problem_name>.<algorithm_name>.gpp.npz\n",
    "```\n",
    "Statistics about each run are stored in the \n",
    "```\n",
    "<problem_name>.<algorithm_name>.<n_run>.csv\n",
    "```\n",
    "files. Performance indicators are computed and stored in the\n",
    "```\n",
    "<problem_name>.<algorithm_name>.<n_run>.pi.csv\n",
    "``` \n",
    "files.\n"
   ]
  },
  {
   "cell_type": "markdown",
   "metadata": {},
   "source": [
    "Let's now visualize the results. The final result of all runs can be found using the `Benchmark.final_results` method:"
   ]
  },
  {
   "cell_type": "code",
   "execution_count": 9,
   "metadata": {},
   "outputs": [
    {
     "data": {
      "text/html": [
       "<div>\n",
       "<style scoped>\n",
       "    .dataframe tbody tr th:only-of-type {\n",
       "        vertical-align: middle;\n",
       "    }\n",
       "\n",
       "    .dataframe tbody tr th {\n",
       "        vertical-align: top;\n",
       "    }\n",
       "\n",
       "    .dataframe thead th {\n",
       "        text-align: right;\n",
       "    }\n",
       "</style>\n",
       "<table border=\"1\" class=\"dataframe\">\n",
       "  <thead>\n",
       "    <tr style=\"text-align: right;\">\n",
       "      <th></th>\n",
       "      <th>algorithm</th>\n",
       "      <th>problem</th>\n",
       "      <th>n_run</th>\n",
       "      <th>n_gen</th>\n",
       "      <th>timedelta</th>\n",
       "      <th>perf_igd</th>\n",
       "    </tr>\n",
       "  </thead>\n",
       "  <tbody>\n",
       "    <tr>\n",
       "      <th>0</th>\n",
       "      <td>nsga2</td>\n",
       "      <td>avg</td>\n",
       "      <td>1</td>\n",
       "      <td>100</td>\n",
       "      <td>229825</td>\n",
       "      <td>0.337213</td>\n",
       "    </tr>\n",
       "    <tr>\n",
       "      <th>1</th>\n",
       "      <td>nsga2</td>\n",
       "      <td>avg</td>\n",
       "      <td>2</td>\n",
       "      <td>100</td>\n",
       "      <td>561598</td>\n",
       "      <td>0.420018</td>\n",
       "    </tr>\n",
       "    <tr>\n",
       "      <th>2</th>\n",
       "      <td>nsga2</td>\n",
       "      <td>avg</td>\n",
       "      <td>3</td>\n",
       "      <td>100</td>\n",
       "      <td>488214</td>\n",
       "      <td>0.266603</td>\n",
       "    </tr>\n",
       "    <tr>\n",
       "      <th>3</th>\n",
       "      <td>nsga2</td>\n",
       "      <td>knnavg</td>\n",
       "      <td>1</td>\n",
       "      <td>195</td>\n",
       "      <td>31253</td>\n",
       "      <td>0.234551</td>\n",
       "    </tr>\n",
       "    <tr>\n",
       "      <th>4</th>\n",
       "      <td>nsga2</td>\n",
       "      <td>knnavg</td>\n",
       "      <td>2</td>\n",
       "      <td>195</td>\n",
       "      <td>396029</td>\n",
       "      <td>0.195837</td>\n",
       "    </tr>\n",
       "    <tr>\n",
       "      <th>5</th>\n",
       "      <td>nsga2</td>\n",
       "      <td>knnavg</td>\n",
       "      <td>3</td>\n",
       "      <td>270</td>\n",
       "      <td>651970</td>\n",
       "      <td>0.170121</td>\n",
       "    </tr>\n",
       "    <tr>\n",
       "      <th>6</th>\n",
       "      <td>nsga2_100</td>\n",
       "      <td>avg</td>\n",
       "      <td>1</td>\n",
       "      <td>100</td>\n",
       "      <td>746074</td>\n",
       "      <td>0.145157</td>\n",
       "    </tr>\n",
       "    <tr>\n",
       "      <th>7</th>\n",
       "      <td>nsga2_100</td>\n",
       "      <td>avg</td>\n",
       "      <td>2</td>\n",
       "      <td>100</td>\n",
       "      <td>252257</td>\n",
       "      <td>0.311286</td>\n",
       "    </tr>\n",
       "    <tr>\n",
       "      <th>8</th>\n",
       "      <td>nsga2_100</td>\n",
       "      <td>avg</td>\n",
       "      <td>3</td>\n",
       "      <td>100</td>\n",
       "      <td>462203</td>\n",
       "      <td>0.166915</td>\n",
       "    </tr>\n",
       "    <tr>\n",
       "      <th>9</th>\n",
       "      <td>nsga2_100</td>\n",
       "      <td>knnavg</td>\n",
       "      <td>1</td>\n",
       "      <td>100</td>\n",
       "      <td>631637</td>\n",
       "      <td>0.224418</td>\n",
       "    </tr>\n",
       "    <tr>\n",
       "      <th>10</th>\n",
       "      <td>nsga2_100</td>\n",
       "      <td>knnavg</td>\n",
       "      <td>2</td>\n",
       "      <td>100</td>\n",
       "      <td>805075</td>\n",
       "      <td>0.370601</td>\n",
       "    </tr>\n",
       "    <tr>\n",
       "      <th>11</th>\n",
       "      <td>nsga2_100</td>\n",
       "      <td>knnavg</td>\n",
       "      <td>3</td>\n",
       "      <td>100</td>\n",
       "      <td>849584</td>\n",
       "      <td>0.316716</td>\n",
       "    </tr>\n",
       "  </tbody>\n",
       "</table>\n",
       "</div>"
      ],
      "text/plain": [
       "    algorithm problem  n_run  n_gen  timedelta  perf_igd\n",
       "0       nsga2     avg      1    100     229825  0.337213\n",
       "1       nsga2     avg      2    100     561598  0.420018\n",
       "2       nsga2     avg      3    100     488214  0.266603\n",
       "3       nsga2  knnavg      1    195      31253  0.234551\n",
       "4       nsga2  knnavg      2    195     396029  0.195837\n",
       "5       nsga2  knnavg      3    270     651970  0.170121\n",
       "6   nsga2_100     avg      1    100     746074  0.145157\n",
       "7   nsga2_100     avg      2    100     252257  0.311286\n",
       "8   nsga2_100     avg      3    100     462203  0.166915\n",
       "9   nsga2_100  knnavg      1    100     631637  0.224418\n",
       "10  nsga2_100  knnavg      2    100     805075  0.370601\n",
       "11  nsga2_100  knnavg      3    100     849584  0.316716"
      ]
     },
     "execution_count": 9,
     "metadata": {},
     "output_type": "execute_result"
    }
   ],
   "source": [
    "benchmark.final_results()"
   ]
  },
  {
   "cell_type": "markdown",
   "metadata": {},
   "source": [
    "The following boxplot indicates that, with the same number of calls to `ZDT1`, KNN-Avg offers a better GD+ performance. However, on the number of generation is fixed or unconstrained, then the averaging method is better."
   ]
  },
  {
   "cell_type": "code",
   "execution_count": 10,
   "metadata": {},
   "outputs": [
    {
     "data": {
      "text/plain": [
       "<AxesSubplot:xlabel='problem', ylabel='perf_igd'>"
      ]
     },
     "execution_count": 10,
     "metadata": {},
     "output_type": "execute_result"
    },
    {
     "data": {
      "image/png": "[encoded data removed]",
      "text/plain": [
       "<Figure size 432x288 with 1 Axes>"
      ]
     },
     "metadata": {
      "needs_background": "light"
     },
     "output_type": "display_data"
    }
   ],
   "source": [
    "import seaborn as sns\n",
    "\n",
    "sns.boxplot(\n",
    "    x=\"problem\", \n",
    "    y=\"perf_igd\", \n",
    "    hue=\"algorithm\",\n",
    "    data=benchmark.final_results(),\n",
    ")"
   ]
  },
  {
   "cell_type": "markdown",
   "metadata": {},
   "source": [
    "The following boxplot depicts the runtimes."
   ]
  },
  {
   "cell_type": "code",
   "execution_count": 11,
   "metadata": {},
   "outputs": [
    {
     "data": {
      "text/plain": [
       "<AxesSubplot:xlabel='problem', ylabel='timedelta'>"
      ]
     },
     "execution_count": 11,
     "metadata": {},
     "output_type": "execute_result"
    },
    {
     "data": {
      "image/png": "[encoded data removed]",
      "text/plain": [
       "<Figure size 432x288 with 1 Axes>"
      ]
     },
     "metadata": {
      "needs_background": "light"
     },
     "output_type": "display_data"
    }
   ],
   "source": [
    "sns.boxplot(\n",
    "    x=\"problem\", \n",
    "    y=\"timedelta\", \n",
    "    hue=\"algorithm\",\n",
    "    data=benchmark.final_results(),\n",
    ")"
   ]
  },
  {
   "cell_type": "code",
   "execution_count": 12,
   "metadata": {},
   "outputs": [
    {
     "data": {
      "text/plain": [
       "<seaborn.axisgrid.FacetGrid at 0x129f8f3a0>"
      ]
     },
     "execution_count": 12,
     "metadata": {},
     "output_type": "execute_result"
    },
    {
     "data": {
      "image/png": "[encoded data removed]",
      "text/plain": [
       "<Figure size 306.375x432 with 2 Axes>"
      ]
     },
     "metadata": {
      "needs_background": "light"
     },
     "output_type": "display_data"
    }
   ],
   "source": [
    "from nmoo.plotting import plot_performance_indicators\n",
    "plot_performance_indicators(benchmark, row=\"algorithm\")"
   ]
  }
 ],
 "metadata": {
  "interpreter": {
   "hash": "1556a16cf37fb4214f8861bf943a2d99c2b3956d871fdd1a2a66e1a032ac6deb"
  },
  "kernelspec": {
   "display_name": "Python 3.8.2 64-bit ('venv': venv)",
   "name": "python3"
  },
  "language_info": {
   "codemirror_mode": {
    "name": "ipython",
    "version": 3
   },
   "file_extension": ".py",
   "mimetype": "text/x-python",
   "name": "python",
   "nbconvert_exporter": "python",
   "pygments_lexer": "ipython3",
   "version": "3.8.2"
  },
  "orig_nbformat": 2
 },
 "nbformat": 4,
 "nbformat_minor": 2
}
