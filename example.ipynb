{
 "cells": [
  {
   "cell_type": "markdown",
   "metadata": {},
   "source": [
    "In this notebook, we consider a ZDT1 problem with Gaussian noise, and benckmark two \"denoising\" methods:\n",
    "* a naive average method,\n",
    "* the KNN-Avg algorithm."
   ]
  },
  {
   "cell_type": "markdown",
   "metadata": {},
   "source": [
    "# Specifying the benchmark"
   ]
  },
  {
   "cell_type": "code",
   "execution_count": 1,
   "metadata": {},
   "outputs": [],
   "source": [
    "import nmoo"
   ]
  },
  {
   "cell_type": "markdown",
   "metadata": {},
   "source": [
    "The first step is to construct our problem pipelines. We start with a `ZDT1`\n",
    "instance, that we wrap in a `WrappedProblem`. In nmoo, `WrappedProblem` is the\n",
    "base class to modify problems, in our case adding and removing noise.\n",
    "Additionally, `WrappedProblem` and classes deriving from it maintain a history\n",
    "of every call made to their `_evaluate` method (see the [pymoo\n",
    "documentation](https://pymoo.org/getting_started.html#By-Class)).\n",
    "\n",
    "Next, we add a Gaussian noise of type `N(0, 0.25)` and the averaging algorithm.\n",
    "\n",
    "While it is possible to feed `zdt1` directly into a `GaussianNoise`, the point\n",
    "of using an intermediate `wrapped_zdt1` is to keep a history of all calls to\n",
    "the non-noisy ZDT1."
   ]
  },
  {
   "cell_type": "code",
   "execution_count": 2,
   "metadata": {},
   "outputs": [],
   "source": [
    "from pymoo.problems.multi import ZDT1\n",
    "import numpy as np\n",
    "\n",
    "zdt1 = ZDT1()\n",
    "wrapped_zdt1 = nmoo.WrappedProblem(zdt1)\n",
    "\n",
    "mean = np.array([0, 0])\n",
    "covariance = np.array([[1., -.5], [-.5, 1]])\n",
    "noisy_zdt1 = nmoo.GaussianNoise(wrapped_zdt1, mean, covariance)\n",
    "\n",
    "avg_zdt1 = nmoo.ResampleAverage(noisy_zdt1, n_evaluations=10)"
   ]
  },
  {
   "cell_type": "markdown",
   "metadata": {},
   "source": [
    "We construct a similar pipeline for the KNN-Avg algorithm (`max_distance` is\n",
    "just a parameter of the algorithm). Note that parts of an already existing\n",
    "pipeline can be reused. Behind the scene, `noisy_zdt1` will be deepcopied."
   ]
  },
  {
   "cell_type": "code",
   "execution_count": 3,
   "metadata": {},
   "outputs": [],
   "source": [
    "knnavg_zdt1 = nmoo.KNNAvg(noisy_zdt1, max_distance=1.)"
   ]
  },
  {
   "cell_type": "markdown",
   "metadata": {},
   "source": [
    "Now, we setup an algorithm that will try and solve our `avg_zdt1` and `knnavg_zdt1` problems."
   ]
  },
  {
   "cell_type": "code",
   "execution_count": 4,
   "metadata": {},
   "outputs": [
    {
     "name": "stdout",
     "output_type": "stream",
     "text": [
      "\n",
      "Compiled modules for significant speedup can not be used!\n",
      "https://pymoo.org/installation.html#installation\n",
      "\n",
      "To disable this warning:\n",
      "from pymoo.config import Config\n",
      "Config.show_compile_hint = False\n",
      "\n"
     ]
    }
   ],
   "source": [
    "from pymoo.algorithms.moo.nsga2 import NSGA2\n",
    "\n",
    "nsga2 = NSGA2()"
   ]
  },
  {
   "cell_type": "markdown",
   "metadata": {},
   "source": [
    "Finally, we setup our benchmark. It will run NSGA2 against `avg_zdt1` and\n",
    "`knnavg_zdt1` tree times each. Additionally, we specify a Pareto front\n",
    "population to measure the performance. It no Pareto front is specified (or\n",
    "known), performance indicators will use one automatically calculated based on\n",
    "the results of the benchmark.\n",
    "\n",
    "Since the `avg` problem evaluates the underlying noisy `ZDT1` problem 10 times,\n",
    "we apply a penalty of 10, meaning that every call to `avg.eval` will count as\n",
    "10 calls.\n",
    "\n",
    "For more information on how to specify the problems and the algorithms, refer\n",
    "to [the documentation](https://altaris.github.io/noisy-moo/nmoo/benchmark.html#Benchmark.__init__)."
   ]
  },
  {
   "cell_type": "code",
   "execution_count": 5,
   "metadata": {},
   "outputs": [],
   "source": [
    "from pymoo.factory import get_termination\n",
    "\n",
    "pareto_front = zdt1.pareto_front(100)\n",
    "\n",
    "benchmark = nmoo.Benchmark(\n",
    "    output_dir_path=\"./out\",\n",
    "    problems={\n",
    "        \"knnavg\": {\n",
    "            \"problem\": knnavg_zdt1,\n",
    "            \"pareto_front\": pareto_front,\n",
    "        },\n",
    "        \"avg\": {\n",
    "            \"problem\": avg_zdt1,\n",
    "            \"pareto_front\": pareto_front,\n",
    "            \"evaluator\": nmoo.PenalizedEvaluator(10),\n",
    "        },\n",
    "    },\n",
    "    algorithms={\n",
    "        \"nsga2\": {\n",
    "            \"algorithm\": nsga2,\n",
    "        },\n",
    "        \"nsga2_100\": {\n",
    "            \"algorithm\": nsga2,\n",
    "            \"termination\": get_termination(\"n_gen\", 100),\n",
    "        },\n",
    "    },\n",
    "    n_runs=3,\n",
    ")"
   ]
  },
  {
   "cell_type": "markdown",
   "metadata": {},
   "source": [
    "# Running the benchmark"
   ]
  },
  {
   "cell_type": "code",
   "execution_count": 6,
   "metadata": {},
   "outputs": [],
   "source": [
    "! rm out/*"
   ]
  },
  {
   "cell_type": "code",
   "execution_count": 7,
   "metadata": {},
   "outputs": [
    {
     "name": "stderr",
     "output_type": "stream",
     "text": [
      "[Parallel(n_jobs=-1)]: Using backend LokyBackend with 10 concurrent workers.\n"
     ]
    },
    {
     "name": "stdout",
     "output_type": "stream",
     "text": [
      "\n",
      "Compiled modules for significant speedup can not be used!\n",
      "https://pymoo.org/installation.html#installation\n",
      "\n",
      "To disable this warning:\n",
      "from pymoo.config import Config\n",
      "Config.show_compile_hint = False\n",
      "\n",
      "\n",
      "Compiled modules for significant speedup can not be used!\n",
      "https://pymoo.org/installation.html#installation\n",
      "\n",
      "To disable this warning:\n",
      "from pymoo.config import Config\n",
      "Config.show_compile_hint = False\n",
      "\n",
      "\n",
      "Compiled modules for significant speedup can not be used!\n",
      "https://pymoo.org/installation.html#installation\n",
      "\n",
      "To disable this warning:\n",
      "from pymoo.config import Config\n",
      "Config.show_compile_hint = False\n",
      "\n",
      "\n",
      "Compiled modules for significant speedup can not be used!\n",
      "https://pymoo.org/installation.html#installation\n",
      "\n",
      "To disable this warning:\n",
      "from pymoo.config import Config\n",
      "Config.show_compile_hint = False\n",
      "\n",
      "\n",
      "Compiled modules for significant speedup can not be used!\n",
      "https://pymoo.org/installation.html#installation\n",
      "\n",
      "To disable this warning:\n",
      "from pymoo.config import Config\n",
      "Config.show_compile_hint = False\n",
      "\n",
      "\n",
      "Compiled modules for significant speedup can not be used!\n",
      "https://pymoo.org/installation.html#installation\n",
      "\n",
      "To disable this warning:\n",
      "from pymoo.config import Config\n",
      "Config.show_compile_hint = False\n",
      "\n",
      "\n",
      "Compiled modules for significant speedup can not be used!\n",
      "https://pymoo.org/installation.html#installation\n",
      "\n",
      "To disable this warning:\n",
      "from pymoo.config import Config\n",
      "Config.show_compile_hint = False\n",
      "\n",
      "\n",
      "Compiled modules for significant speedup can not be used!\n",
      "https://pymoo.org/installation.html#installation\n",
      "\n",
      "To disable this warning:\n",
      "from pymoo.config import Config\n",
      "Config.show_compile_hint = False\n",
      "\n",
      "\n",
      "Compiled modules for significant speedup can not be used!\n",
      "https://pymoo.org/installation.html#installation\n",
      "\n",
      "To disable this warning:\n",
      "from pymoo.config import Config\n",
      "Config.show_compile_hint = False\n",
      "\n",
      "\n",
      "Compiled modules for significant speedup can not be used!\n",
      "https://pymoo.org/installation.html#installation\n",
      "\n",
      "To disable this warning:\n",
      "from pymoo.config import Config\n",
      "Config.show_compile_hint = False\n",
      "\n"
     ]
    },
    {
     "name": "stderr",
     "output_type": "stream",
     "text": [
      "[Parallel(n_jobs=-1)]: Done   1 tasks      | elapsed:   18.1s\n",
      "[Parallel(n_jobs=-1)]: Done   3 out of  12 | elapsed:   18.4s remaining:   55.1s\n",
      "[Parallel(n_jobs=-1)]: Done   5 out of  12 | elapsed:   30.3s remaining:   42.4s\n",
      "[Parallel(n_jobs=-1)]: Done   7 out of  12 | elapsed:   34.7s remaining:   24.8s\n",
      "[Parallel(n_jobs=-1)]: Done   9 out of  12 | elapsed:   36.9s remaining:   12.3s\n",
      "[Parallel(n_jobs=-1)]: Done  12 out of  12 | elapsed:  1.6min finished\n",
      "[Parallel(n_jobs=2)]: Using backend LokyBackend with 2 concurrent workers.\n",
      "[Parallel(n_jobs=2)]: Done   1 tasks      | elapsed:    1.8s\n",
      "[Parallel(n_jobs=2)]: Done   2 out of   4 | elapsed:    1.8s remaining:    1.8s\n",
      "[Parallel(n_jobs=2)]: Done   4 out of   4 | elapsed:    1.8s remaining:    0.0s\n",
      "[Parallel(n_jobs=2)]: Done   4 out of   4 | elapsed:    1.8s finished\n",
      "[Parallel(n_jobs=2)]: Using backend LokyBackend with 2 concurrent workers.\n",
      "[Parallel(n_jobs=2)]: Done   1 tasks      | elapsed:    1.3s\n",
      "[Parallel(n_jobs=2)]: Done   4 tasks      | elapsed:    3.9s\n",
      "[Parallel(n_jobs=2)]: Done   9 tasks      | elapsed:    8.5s\n",
      "[Parallel(n_jobs=2)]: Done  12 out of  12 | elapsed:    9.9s finished\n"
     ]
    }
   ],
   "source": [
    "benchmark.run(verbose=10)"
   ]
  },
  {
   "cell_type": "markdown",
   "metadata": {},
   "source": [
    "# Benchmark results"
   ]
  },
  {
   "cell_type": "markdown",
   "metadata": {},
   "source": [
    "Results of the benchmark are automatically saved:"
   ]
  },
  {
   "cell_type": "code",
   "execution_count": 8,
   "metadata": {},
   "outputs": [
    {
     "name": "stdout",
     "output_type": "stream",
     "text": [
      "avg.nsga2.1.1-resample_avg.npz\n",
      "avg.nsga2.1.2-gaussian_noise.npz\n",
      "avg.nsga2.1.3-wrapped_problem.npz\n",
      "avg.nsga2.1.csv\n",
      "avg.nsga2.1.pi-igd.csv\n",
      "avg.nsga2.1.pp.npz\n",
      "avg.nsga2.2.1-resample_avg.npz\n",
      "avg.nsga2.2.2-gaussian_noise.npz\n",
      "avg.nsga2.2.3-wrapped_problem.npz\n",
      "avg.nsga2.2.csv\n",
      "avg.nsga2.2.pi-igd.csv\n",
      "avg.nsga2.2.pp.npz\n",
      "avg.nsga2.3.1-resample_avg.npz\n",
      "avg.nsga2.3.2-gaussian_noise.npz\n",
      "avg.nsga2.3.3-wrapped_problem.npz\n",
      "avg.nsga2.3.csv\n",
      "avg.nsga2.3.pi-igd.csv\n",
      "avg.nsga2.3.pp.npz\n",
      "avg.nsga2.gpp.npz\n",
      "avg.nsga2_100.1.1-resample_avg.npz\n",
      "avg.nsga2_100.1.2-gaussian_noise.npz\n",
      "avg.nsga2_100.1.3-wrapped_problem.npz\n",
      "avg.nsga2_100.1.csv\n",
      "avg.nsga2_100.1.pi-igd.csv\n",
      "avg.nsga2_100.1.pp.npz\n",
      "avg.nsga2_100.2.1-resample_avg.npz\n",
      "avg.nsga2_100.2.2-gaussian_noise.npz\n",
      "avg.nsga2_100.2.3-wrapped_problem.npz\n",
      "avg.nsga2_100.2.csv\n",
      "avg.nsga2_100.2.pi-igd.csv\n",
      "avg.nsga2_100.2.pp.npz\n",
      "avg.nsga2_100.3.1-resample_avg.npz\n",
      "avg.nsga2_100.3.2-gaussian_noise.npz\n",
      "avg.nsga2_100.3.3-wrapped_problem.npz\n",
      "avg.nsga2_100.3.csv\n",
      "avg.nsga2_100.3.pi-igd.csv\n",
      "avg.nsga2_100.3.pp.npz\n",
      "avg.nsga2_100.gpp.npz\n",
      "benchmark.csv\n",
      "knnavg.nsga2.1.1-knn_avg.npz\n",
      "knnavg.nsga2.1.2-gaussian_noise.npz\n",
      "knnavg.nsga2.1.3-wrapped_problem.npz\n",
      "knnavg.nsga2.1.csv\n",
      "knnavg.nsga2.1.pi-igd.csv\n",
      "knnavg.nsga2.1.pp.npz\n",
      "knnavg.nsga2.2.1-knn_avg.npz\n",
      "knnavg.nsga2.2.2-gaussian_noise.npz\n",
      "knnavg.nsga2.2.3-wrapped_problem.npz\n",
      "knnavg.nsga2.2.csv\n",
      "knnavg.nsga2.2.pi-igd.csv\n",
      "knnavg.nsga2.2.pp.npz\n",
      "knnavg.nsga2.3.1-knn_avg.npz\n",
      "knnavg.nsga2.3.2-gaussian_noise.npz\n",
      "knnavg.nsga2.3.3-wrapped_problem.npz\n",
      "knnavg.nsga2.3.csv\n",
      "knnavg.nsga2.3.pi-igd.csv\n",
      "knnavg.nsga2.3.pp.npz\n",
      "knnavg.nsga2.gpp.npz\n",
      "knnavg.nsga2_100.1.1-knn_avg.npz\n",
      "knnavg.nsga2_100.1.2-gaussian_noise.npz\n",
      "knnavg.nsga2_100.1.3-wrapped_problem.npz\n",
      "knnavg.nsga2_100.1.csv\n",
      "knnavg.nsga2_100.1.pi-igd.csv\n",
      "knnavg.nsga2_100.1.pp.npz\n",
      "knnavg.nsga2_100.2.1-knn_avg.npz\n",
      "knnavg.nsga2_100.2.2-gaussian_noise.npz\n",
      "knnavg.nsga2_100.2.3-wrapped_problem.npz\n",
      "knnavg.nsga2_100.2.csv\n",
      "knnavg.nsga2_100.2.pi-igd.csv\n",
      "knnavg.nsga2_100.2.pp.npz\n",
      "knnavg.nsga2_100.3.1-knn_avg.npz\n",
      "knnavg.nsga2_100.3.2-gaussian_noise.npz\n",
      "knnavg.nsga2_100.3.3-wrapped_problem.npz\n",
      "knnavg.nsga2_100.3.csv\n",
      "knnavg.nsga2_100.3.pi-igd.csv\n",
      "knnavg.nsga2_100.3.pp.npz\n",
      "knnavg.nsga2_100.gpp.npz\n"
     ]
    }
   ],
   "source": [
    "! ls ./out"
   ]
  },
  {
   "cell_type": "markdown",
   "metadata": {},
   "source": [
    "The benchmark results are saved in `benchmark.csv`. They can also be accessed\n",
    "by `benchmark._results`. The rest are problem call histories, named after the\n",
    "following scheme:\n",
    "\n",
    "* `<problem_name>.<algorithm_name>.<n_run>.<level>-<layer_name>.npz`: layer\n",
    "histories. For example, `knnavg.nsga2_100.3.2-gaussian_noise.npz` is the\n",
    "`GaussianNoise` history (level 2) of the 3rd run of `NSGA2` (100 generations)\n",
    "on the `knnavg` pipeline. \n",
    "\n",
    "* `<problem_name>.<algorithm_name>.<n_run>.pp.npz`: Pareto populations of each\n",
    "run are stored in the files,\n",
    "\n",
    "* `<problem_name>.<algorithm_name>.gpp.npz`: global Pareto population for a\n",
    "given problem-algorithm pair is stored in \n",
    "\n",
    "* `<problem_name>.<algorithm_name>.<n_run>.csv`: statistics about each run.\n",
    "\n",
    "* `<problem_name>.<algorithm_name>.<n_run>.pi-<pi_name>.csv`: ^erformance\n",
    "indicators."
   ]
  },
  {
   "cell_type": "markdown",
   "metadata": {},
   "source": [
    "Let's now visualize the results. The final result of all runs can be found using the `Benchmark.final_results` method:"
   ]
  },
  {
   "cell_type": "code",
   "execution_count": 9,
   "metadata": {},
   "outputs": [
    {
     "data": {
      "text/html": [
       "<div>\n",
       "<style scoped>\n",
       "    .dataframe tbody tr th:only-of-type {\n",
       "        vertical-align: middle;\n",
       "    }\n",
       "\n",
       "    .dataframe tbody tr th {\n",
       "        vertical-align: top;\n",
       "    }\n",
       "\n",
       "    .dataframe thead th {\n",
       "        text-align: right;\n",
       "    }\n",
       "</style>\n",
       "<table border=\"1\" class=\"dataframe\">\n",
       "  <thead>\n",
       "    <tr style=\"text-align: right;\">\n",
       "      <th></th>\n",
       "      <th>algorithm</th>\n",
       "      <th>problem</th>\n",
       "      <th>n_run</th>\n",
       "      <th>n_gen</th>\n",
       "      <th>timedelta</th>\n",
       "      <th>perf_igd</th>\n",
       "    </tr>\n",
       "  </thead>\n",
       "  <tbody>\n",
       "    <tr>\n",
       "      <th>0</th>\n",
       "      <td>nsga2</td>\n",
       "      <td>avg</td>\n",
       "      <td>1</td>\n",
       "      <td>100</td>\n",
       "      <td>289324</td>\n",
       "      <td>0.218512</td>\n",
       "    </tr>\n",
       "    <tr>\n",
       "      <th>1</th>\n",
       "      <td>nsga2</td>\n",
       "      <td>avg</td>\n",
       "      <td>2</td>\n",
       "      <td>100</td>\n",
       "      <td>254543</td>\n",
       "      <td>0.257163</td>\n",
       "    </tr>\n",
       "    <tr>\n",
       "      <th>2</th>\n",
       "      <td>nsga2</td>\n",
       "      <td>avg</td>\n",
       "      <td>3</td>\n",
       "      <td>100</td>\n",
       "      <td>201176</td>\n",
       "      <td>0.261901</td>\n",
       "    </tr>\n",
       "    <tr>\n",
       "      <th>3</th>\n",
       "      <td>nsga2</td>\n",
       "      <td>knnavg</td>\n",
       "      <td>1</td>\n",
       "      <td>120</td>\n",
       "      <td>227565</td>\n",
       "      <td>0.503759</td>\n",
       "    </tr>\n",
       "    <tr>\n",
       "      <th>4</th>\n",
       "      <td>nsga2</td>\n",
       "      <td>knnavg</td>\n",
       "      <td>2</td>\n",
       "      <td>150</td>\n",
       "      <td>766496</td>\n",
       "      <td>0.290371</td>\n",
       "    </tr>\n",
       "    <tr>\n",
       "      <th>5</th>\n",
       "      <td>nsga2</td>\n",
       "      <td>knnavg</td>\n",
       "      <td>3</td>\n",
       "      <td>295</td>\n",
       "      <td>749392</td>\n",
       "      <td>0.174670</td>\n",
       "    </tr>\n",
       "    <tr>\n",
       "      <th>6</th>\n",
       "      <td>nsga2_100</td>\n",
       "      <td>avg</td>\n",
       "      <td>1</td>\n",
       "      <td>100</td>\n",
       "      <td>42734</td>\n",
       "      <td>0.281389</td>\n",
       "    </tr>\n",
       "    <tr>\n",
       "      <th>7</th>\n",
       "      <td>nsga2_100</td>\n",
       "      <td>avg</td>\n",
       "      <td>2</td>\n",
       "      <td>100</td>\n",
       "      <td>953251</td>\n",
       "      <td>0.202367</td>\n",
       "    </tr>\n",
       "    <tr>\n",
       "      <th>8</th>\n",
       "      <td>nsga2_100</td>\n",
       "      <td>avg</td>\n",
       "      <td>3</td>\n",
       "      <td>100</td>\n",
       "      <td>151211</td>\n",
       "      <td>0.187848</td>\n",
       "    </tr>\n",
       "    <tr>\n",
       "      <th>9</th>\n",
       "      <td>nsga2_100</td>\n",
       "      <td>knnavg</td>\n",
       "      <td>1</td>\n",
       "      <td>100</td>\n",
       "      <td>491928</td>\n",
       "      <td>0.228185</td>\n",
       "    </tr>\n",
       "    <tr>\n",
       "      <th>10</th>\n",
       "      <td>nsga2_100</td>\n",
       "      <td>knnavg</td>\n",
       "      <td>2</td>\n",
       "      <td>100</td>\n",
       "      <td>211326</td>\n",
       "      <td>0.252356</td>\n",
       "    </tr>\n",
       "    <tr>\n",
       "      <th>11</th>\n",
       "      <td>nsga2_100</td>\n",
       "      <td>knnavg</td>\n",
       "      <td>3</td>\n",
       "      <td>100</td>\n",
       "      <td>310510</td>\n",
       "      <td>0.211685</td>\n",
       "    </tr>\n",
       "  </tbody>\n",
       "</table>\n",
       "</div>"
      ],
      "text/plain": [
       "    algorithm problem  n_run  n_gen  timedelta  perf_igd\n",
       "0       nsga2     avg      1    100     289324  0.218512\n",
       "1       nsga2     avg      2    100     254543  0.257163\n",
       "2       nsga2     avg      3    100     201176  0.261901\n",
       "3       nsga2  knnavg      1    120     227565  0.503759\n",
       "4       nsga2  knnavg      2    150     766496  0.290371\n",
       "5       nsga2  knnavg      3    295     749392  0.174670\n",
       "6   nsga2_100     avg      1    100      42734  0.281389\n",
       "7   nsga2_100     avg      2    100     953251  0.202367\n",
       "8   nsga2_100     avg      3    100     151211  0.187848\n",
       "9   nsga2_100  knnavg      1    100     491928  0.228185\n",
       "10  nsga2_100  knnavg      2    100     211326  0.252356\n",
       "11  nsga2_100  knnavg      3    100     310510  0.211685"
      ]
     },
     "execution_count": 9,
     "metadata": {},
     "output_type": "execute_result"
    }
   ],
   "source": [
    "benchmark.final_results()"
   ]
  },
  {
   "cell_type": "markdown",
   "metadata": {},
   "source": [
    "# Plotting"
   ]
  },
  {
   "cell_type": "markdown",
   "metadata": {},
   "source": [
    "The following plot depicts the IGD performance of averaging vs. KNN-averaging."
   ]
  },
  {
   "cell_type": "code",
   "execution_count": 10,
   "metadata": {},
   "outputs": [
    {
     "data": {
      "text/plain": [
       "<AxesSubplot:xlabel='problem', ylabel='perf_igd'>"
      ]
     },
     "execution_count": 10,
     "metadata": {},
     "output_type": "execute_result"
    },
    {
     "data": {
      "image/png": "[encoded data removed]",
      "text/plain": [
       "<Figure size 432x288 with 1 Axes>"
      ]
     },
     "metadata": {
      "needs_background": "light"
     },
     "output_type": "display_data"
    }
   ],
   "source": [
    "import seaborn as sns\n",
    "\n",
    "sns.boxplot(\n",
    "    x=\"problem\", \n",
    "    y=\"perf_igd\", \n",
    "    hue=\"algorithm\",\n",
    "    data=benchmark.final_results(),\n",
    ")"
   ]
  },
  {
   "cell_type": "markdown",
   "metadata": {},
   "source": [
    "The following boxplot depicts the runtimes."
   ]
  },
  {
   "cell_type": "code",
   "execution_count": 11,
   "metadata": {},
   "outputs": [
    {
     "data": {
      "text/plain": [
       "<AxesSubplot:xlabel='problem', ylabel='timedelta'>"
      ]
     },
     "execution_count": 11,
     "metadata": {},
     "output_type": "execute_result"
    },
    {
     "data": {
      "image/png": "[encoded data removed]",
      "text/plain": [
       "<Figure size 432x288 with 1 Axes>"
      ]
     },
     "metadata": {
      "needs_background": "light"
     },
     "output_type": "display_data"
    }
   ],
   "source": [
    "sns.boxplot(\n",
    "    x=\"problem\", \n",
    "    y=\"timedelta\", \n",
    "    hue=\"algorithm\",\n",
    "    data=benchmark.final_results(),\n",
    ")"
   ]
  },
  {
   "cell_type": "markdown",
   "metadata": {},
   "source": [
    "`nmoo` also offers a few plotting primitives, see [the documentation](https://altaris.github.io/noisy-moo/nmoo/plotting.html)."
   ]
  },
  {
   "cell_type": "code",
   "execution_count": 12,
   "metadata": {},
   "outputs": [
    {
     "data": {
      "text/plain": [
       "<seaborn.axisgrid.FacetGrid at 0x178995ca0>"
      ]
     },
     "execution_count": 12,
     "metadata": {},
     "output_type": "execute_result"
    },
    {
     "data": {
      "image/png": "[encoded data removed]",
      "text/plain": [
       "<Figure size 306.375x432 with 2 Axes>"
      ]
     },
     "metadata": {
      "needs_background": "light"
     },
     "output_type": "display_data"
    }
   ],
   "source": [
    "nmoo.plot_performance_indicators(benchmark, row=\"algorithm\")"
   ]
  }
 ],
 "metadata": {
  "interpreter": {
   "hash": "1556a16cf37fb4214f8861bf943a2d99c2b3956d871fdd1a2a66e1a032ac6deb"
  },
  "kernelspec": {
   "display_name": "Python 3.8.2 64-bit ('venv': venv)",
   "name": "python3"
  },
  "language_info": {
   "codemirror_mode": {
    "name": "ipython",
    "version": 3
   },
   "file_extension": ".py",
   "mimetype": "text/x-python",
   "name": "python",
   "nbconvert_exporter": "python",
   "pygments_lexer": "ipython3",
   "version": "3.9.13"
  },
  "orig_nbformat": 2
 },
 "nbformat": 4,
 "nbformat_minor": 2
}
