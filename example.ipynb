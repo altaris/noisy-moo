{
 "metadata": {
  "language_info": {
   "codemirror_mode": {
    "name": "ipython",
    "version": 3
   },
   "file_extension": ".py",
   "mimetype": "text/x-python",
   "name": "python",
   "nbconvert_exporter": "python",
   "pygments_lexer": "ipython3",
   "version": "3.8.2"
  },
  "orig_nbformat": 2,
  "kernelspec": {
   "name": "python3",
   "display_name": "Python 3.8.2 64-bit ('venv': venv)"
  },
  "interpreter": {
   "hash": "fce3d0f7090ed474c1698771235aa725c227d11bb797bd2a1e85689f49854568"
  }
 },
 "nbformat": 4,
 "nbformat_minor": 2,
 "cells": [
  {
   "cell_type": "markdown",
   "source": [
    "In this notebook, we consider a ZDT1 problem with Gaussian noise, and benckmark two \"denoising\" methods:\n",
    "* a naive average method,\n",
    "* the KNN-Avg algorithm."
   ],
   "metadata": {}
  },
  {
   "cell_type": "code",
   "execution_count": 1,
   "source": [
    "import nmoo"
   ],
   "outputs": [],
   "metadata": {}
  },
  {
   "cell_type": "markdown",
   "source": [
    "The first step is to construct our problem pipelines. We start with a `ZDT1` instance, that we wrap in a `ProblemWrapper`. In nmoo, `ProblemWrapper` is the base class to modify problems, in our case adding and removing noise. Additionally, `ProblemWrapper` and classes deriving from it maintain a history of every call made to their `_evaluate` method (see the [pymoo documentation](https://pymoo.org/getting_started.html#By-Class)).\n",
    "\n",
    "Next, we add a Gaussian noise of type `N(0, 0.25)` and the averaging algorithm."
   ],
   "metadata": {}
  },
  {
   "cell_type": "code",
   "execution_count": 2,
   "source": [
    "from pymoo.problems.multi import ZDT1\n",
    "import numpy as np\n",
    "\n",
    "zdt1 = ZDT1()\n",
    "wrapped_zdt1 = nmoo.WrappedProblem(zdt1)\n",
    "mean = np.array([0, 0])\n",
    "covariance = np.array([[1., -.5], [-.5, 1]])\n",
    "noisy_zdt1 = nmoo.noises.GaussianNoise(\n",
    "    wrapped_zdt1, \n",
    "    {\"F\": (mean, covariance)},\n",
    ")\n",
    "avg_zdt1 = nmoo.denoisers.ResampleAverage(noisy_zdt1, n_evaluations=10)"
   ],
   "outputs": [],
   "metadata": {}
  },
  {
   "cell_type": "markdown",
   "source": [
    "We construct a similar pipeline for the KNN-Avg algorithm. Note that parts of\n",
    "an already existing pipeline can be reused."
   ],
   "metadata": {}
  },
  {
   "cell_type": "code",
   "execution_count": 3,
   "source": [
    "\n",
    "knnavg_zdt1 = nmoo.denoisers.KNNAvg(\n",
    "    noisy_zdt1,\n",
    "    distance_weight_type=\"squared\",\n",
    "    max_distance=1.0,\n",
    "    n_neighbors=100,\n",
    ")"
   ],
   "outputs": [],
   "metadata": {}
  },
  {
   "cell_type": "markdown",
   "source": [
    "Now, we setup an algorithm that will try and solve our `avg_zdt1` and `knnavg_zdt1` problems."
   ],
   "metadata": {}
  },
  {
   "cell_type": "code",
   "execution_count": 4,
   "source": [
    "from pymoo.algorithms.moo.nsga2 import NSGA2\n",
    "\n",
    "nsga2 = NSGA2(\n",
    "    pop_size=40,\n",
    "    n_offsprings=10,\n",
    "    eliminate_duplicates=True,\n",
    ")"
   ],
   "outputs": [],
   "metadata": {}
  },
  {
   "cell_type": "markdown",
   "source": [
    "Finally, we setup our benchmark. It will run NSGA2 against `avg_zdt1` and `knnavg_zdt1` five times each. Additionally, we specify a Pareto front population to measure the performance, not of NSGA2, but of KNN-Avg against the averaging method."
   ],
   "metadata": {}
  },
  {
   "cell_type": "code",
   "execution_count": 5,
   "source": [
    "from pymoo.factory import get_termination\n",
    "\n",
    "pareto_front = zdt1.pareto_front(100)\n",
    "\n",
    "benchmark = nmoo.benchmark.Benchmark(\n",
    "    output_dir_path=\"./out\",\n",
    "    problems={\n",
    "        \"knnavg\": {\n",
    "            \"problem\": knnavg_zdt1,\n",
    "            \"pareto_front\": pareto_front,\n",
    "        },\n",
    "        \"avg\": {\n",
    "            \"problem\": avg_zdt1,\n",
    "            \"pareto_front\": pareto_front,\n",
    "        },\n",
    "    },\n",
    "    algorithms={\n",
    "        \"nsga2\": {\n",
    "            \"algorithm\": nsga2,\n",
    "        },\n",
    "        \"nsga2_10\": {\n",
    "            \"algorithm\": nsga2,\n",
    "            \"termination\": get_termination(\"n_gen\", 10),\n",
    "        },\n",
    "        \"nsga2_100\": {\n",
    "            \"algorithm\": nsga2,\n",
    "            \"termination\": get_termination(\"n_gen\", 100),\n",
    "        },\n",
    "    },\n",
    "    n_runs=3,\n",
    ")"
   ],
   "outputs": [],
   "metadata": {}
  },
  {
   "cell_type": "code",
   "execution_count": 6,
   "source": [
    "! (mkdir ./out; rm out/*) > /dev/null 2>&1"
   ],
   "outputs": [],
   "metadata": {}
  },
  {
   "cell_type": "code",
   "execution_count": 7,
   "source": [
    "%%time\n",
    "benchmark.run(verbose=50)"
   ],
   "outputs": [
    {
     "output_type": "stream",
     "name": "stdout",
     "text": [
      "[Parallel(n_jobs=-1)]: Using backend LokyBackend with 8 concurrent workers.\n",
      "[Parallel(n_jobs=-1)]: Done   1 tasks      | elapsed:    2.4s\n",
      "[Parallel(n_jobs=-1)]: Done   2 tasks      | elapsed:    2.5s\n",
      "[Parallel(n_jobs=-1)]: Done   3 tasks      | elapsed:    2.9s\n",
      "[Parallel(n_jobs=-1)]: Done   4 out of  18 | elapsed:    3.4s remaining:   11.9s\n",
      "[Parallel(n_jobs=-1)]: Done   5 out of  18 | elapsed:    3.5s remaining:    9.0s\n",
      "[Parallel(n_jobs=-1)]: Done   6 out of  18 | elapsed:    3.9s remaining:    7.8s\n",
      "[Parallel(n_jobs=-1)]: Done   7 out of  18 | elapsed:   12.4s remaining:   19.5s\n",
      "[Parallel(n_jobs=-1)]: Done   8 out of  18 | elapsed:   13.0s remaining:   16.2s\n",
      "[Parallel(n_jobs=-1)]: Done   9 out of  18 | elapsed:   15.6s remaining:   15.6s\n",
      "[Parallel(n_jobs=-1)]: Done  10 out of  18 | elapsed:   17.8s remaining:   14.2s\n",
      "[Parallel(n_jobs=-1)]: Done  11 out of  18 | elapsed:   21.4s remaining:   13.6s\n",
      "[Parallel(n_jobs=-1)]: Done  12 out of  18 | elapsed:   22.1s remaining:   11.1s\n",
      "[Parallel(n_jobs=-1)]: Done  13 out of  18 | elapsed:   23.7s remaining:    9.1s\n",
      "[Parallel(n_jobs=-1)]: Done  14 out of  18 | elapsed:   23.8s remaining:    6.8s\n",
      "[Parallel(n_jobs=-1)]: Done  15 out of  18 | elapsed:   25.1s remaining:    5.0s\n",
      "[Parallel(n_jobs=-1)]: Done  16 out of  18 | elapsed:   27.3s remaining:    3.4s\n"
     ]
    }
   ],
   "metadata": {}
  },
  {
   "cell_type": "markdown",
   "source": [
    "Results of the benchmark are automatically saved:"
   ],
   "metadata": {}
  },
  {
   "cell_type": "code",
   "execution_count": null,
   "source": [
    "! ls -1 ./out"
   ],
   "outputs": [
    {
     "output_type": "stream",
     "name": "stdout",
     "text": [
      "avg.nsga2.1.1-resample_avg.npz\n",
      "avg.nsga2.1.2-gaussian_noise.npz\n",
      "avg.nsga2.1.3-wrapped_problem.npz\n",
      "avg.nsga2.2.1-resample_avg.npz\n",
      "avg.nsga2.2.2-gaussian_noise.npz\n",
      "avg.nsga2.2.3-wrapped_problem.npz\n",
      "avg.nsga2.3.1-resample_avg.npz\n",
      "avg.nsga2.3.2-gaussian_noise.npz\n",
      "avg.nsga2.3.3-wrapped_problem.npz\n",
      "avg.nsga2_10.1.1-resample_avg.npz\n",
      "avg.nsga2_10.1.2-gaussian_noise.npz\n",
      "avg.nsga2_10.1.3-wrapped_problem.npz\n",
      "avg.nsga2_10.2.1-resample_avg.npz\n",
      "avg.nsga2_10.2.2-gaussian_noise.npz\n",
      "avg.nsga2_10.2.3-wrapped_problem.npz\n",
      "avg.nsga2_10.3.1-resample_avg.npz\n",
      "avg.nsga2_10.3.2-gaussian_noise.npz\n",
      "avg.nsga2_10.3.3-wrapped_problem.npz\n",
      "avg.nsga2_100.1.1-resample_avg.npz\n",
      "avg.nsga2_100.1.2-gaussian_noise.npz\n",
      "avg.nsga2_100.1.3-wrapped_problem.npz\n",
      "avg.nsga2_100.2.1-resample_avg.npz\n",
      "avg.nsga2_100.2.2-gaussian_noise.npz\n",
      "avg.nsga2_100.2.3-wrapped_problem.npz\n",
      "avg.nsga2_100.3.1-resample_avg.npz\n",
      "avg.nsga2_100.3.2-gaussian_noise.npz\n",
      "avg.nsga2_100.3.3-wrapped_problem.npz\n",
      "benchmark.csv\n",
      "knnavg.nsga2.1.1-knn_avg.npz\n",
      "knnavg.nsga2.1.2-gaussian_noise.npz\n",
      "knnavg.nsga2.1.3-wrapped_problem.npz\n",
      "knnavg.nsga2.2.1-knn_avg.npz\n",
      "knnavg.nsga2.2.2-gaussian_noise.npz\n",
      "knnavg.nsga2.2.3-wrapped_problem.npz\n",
      "knnavg.nsga2.3.1-knn_avg.npz\n",
      "knnavg.nsga2.3.2-gaussian_noise.npz\n",
      "knnavg.nsga2.3.3-wrapped_problem.npz\n",
      "knnavg.nsga2_10.1.1-knn_avg.npz\n",
      "knnavg.nsga2_10.1.2-gaussian_noise.npz\n",
      "knnavg.nsga2_10.1.3-wrapped_problem.npz\n",
      "knnavg.nsga2_10.2.1-knn_avg.npz\n",
      "knnavg.nsga2_10.2.2-gaussian_noise.npz\n",
      "knnavg.nsga2_10.2.3-wrapped_problem.npz\n",
      "knnavg.nsga2_10.3.1-knn_avg.npz\n",
      "knnavg.nsga2_10.3.2-gaussian_noise.npz\n",
      "knnavg.nsga2_10.3.3-wrapped_problem.npz\n",
      "knnavg.nsga2_100.1.1-knn_avg.npz\n",
      "knnavg.nsga2_100.1.2-gaussian_noise.npz\n",
      "knnavg.nsga2_100.1.3-wrapped_problem.npz\n",
      "knnavg.nsga2_100.2.1-knn_avg.npz\n",
      "knnavg.nsga2_100.2.2-gaussian_noise.npz\n",
      "knnavg.nsga2_100.2.3-wrapped_problem.npz\n",
      "knnavg.nsga2_100.3.1-knn_avg.npz\n",
      "knnavg.nsga2_100.3.2-gaussian_noise.npz\n",
      "knnavg.nsga2_100.3.3-wrapped_problem.npz\n"
     ]
    }
   ],
   "metadata": {}
  },
  {
   "cell_type": "markdown",
   "source": [
    "The benchmark results are saved in `benchmark.csv`. They can also be accessed by `benchmark._results`. The rest are problem call histories, named after the following scheme:\n",
    "```\n",
    "<problem_name>.<algorithm_name>.<n_run>.<level>-<layer_name>.npz\n",
    "```\n",
    "For example, `knnavg.nsga2_100.3.2-gaussian_noise.npz` is the `GaussianNoise` history (level 2) of the 3rd run of `NSGA2` (100 generations) on the `knnavg` pipeline."
   ],
   "metadata": {}
  },
  {
   "cell_type": "markdown",
   "source": [
    "Let's now visualize the results. The final result of all runs can be found using the `Benchmark.final_results` method:"
   ],
   "metadata": {}
  },
  {
   "cell_type": "code",
   "execution_count": null,
   "source": [
    "benchmark.final_results()"
   ],
   "outputs": [
    {
     "output_type": "execute_result",
     "data": {
      "text/html": [
       "<div>\n",
       "<style scoped>\n",
       "    .dataframe tbody tr th:only-of-type {\n",
       "        vertical-align: middle;\n",
       "    }\n",
       "\n",
       "    .dataframe tbody tr th {\n",
       "        vertical-align: top;\n",
       "    }\n",
       "\n",
       "    .dataframe thead th {\n",
       "        text-align: right;\n",
       "    }\n",
       "</style>\n",
       "<table border=\"1\" class=\"dataframe\">\n",
       "  <thead>\n",
       "    <tr style=\"text-align: right;\">\n",
       "      <th></th>\n",
       "      <th>algorithm</th>\n",
       "      <th>problem</th>\n",
       "      <th>n_run</th>\n",
       "      <th>n_gen</th>\n",
       "      <th>timedelta</th>\n",
       "      <th>perf_gd</th>\n",
       "      <th>perf_gd+</th>\n",
       "      <th>perf_igd</th>\n",
       "      <th>perf_igd+</th>\n",
       "    </tr>\n",
       "  </thead>\n",
       "  <tbody>\n",
       "    <tr>\n",
       "      <th>0</th>\n",
       "      <td>nsga2</td>\n",
       "      <td>avg</td>\n",
       "      <td>1</td>\n",
       "      <td>240</td>\n",
       "      <td>656299</td>\n",
       "      <td>1.331373</td>\n",
       "      <td>1.292831</td>\n",
       "      <td>0.595182</td>\n",
       "      <td>0.595182</td>\n",
       "    </tr>\n",
       "    <tr>\n",
       "      <th>1</th>\n",
       "      <td>nsga2</td>\n",
       "      <td>avg</td>\n",
       "      <td>2</td>\n",
       "      <td>239</td>\n",
       "      <td>271246</td>\n",
       "      <td>1.569757</td>\n",
       "      <td>1.537632</td>\n",
       "      <td>1.098642</td>\n",
       "      <td>1.094957</td>\n",
       "    </tr>\n",
       "    <tr>\n",
       "      <th>2</th>\n",
       "      <td>nsga2</td>\n",
       "      <td>avg</td>\n",
       "      <td>3</td>\n",
       "      <td>240</td>\n",
       "      <td>546441</td>\n",
       "      <td>0.800020</td>\n",
       "      <td>0.756240</td>\n",
       "      <td>0.307375</td>\n",
       "      <td>0.307361</td>\n",
       "    </tr>\n",
       "    <tr>\n",
       "      <th>3</th>\n",
       "      <td>nsga2</td>\n",
       "      <td>knnavg</td>\n",
       "      <td>1</td>\n",
       "      <td>180</td>\n",
       "      <td>851579</td>\n",
       "      <td>1.509993</td>\n",
       "      <td>1.270611</td>\n",
       "      <td>0.292886</td>\n",
       "      <td>0.285628</td>\n",
       "    </tr>\n",
       "    <tr>\n",
       "      <th>4</th>\n",
       "      <td>nsga2</td>\n",
       "      <td>knnavg</td>\n",
       "      <td>2</td>\n",
       "      <td>360</td>\n",
       "      <td>833483</td>\n",
       "      <td>1.674628</td>\n",
       "      <td>1.322090</td>\n",
       "      <td>0.112567</td>\n",
       "      <td>0.061472</td>\n",
       "    </tr>\n",
       "    <tr>\n",
       "      <th>5</th>\n",
       "      <td>nsga2</td>\n",
       "      <td>knnavg</td>\n",
       "      <td>3</td>\n",
       "      <td>260</td>\n",
       "      <td>386418</td>\n",
       "      <td>2.089736</td>\n",
       "      <td>1.660224</td>\n",
       "      <td>0.179841</td>\n",
       "      <td>0.060847</td>\n",
       "    </tr>\n",
       "    <tr>\n",
       "      <th>6</th>\n",
       "      <td>nsga2_10</td>\n",
       "      <td>avg</td>\n",
       "      <td>1</td>\n",
       "      <td>10</td>\n",
       "      <td>241300</td>\n",
       "      <td>2.606226</td>\n",
       "      <td>2.602994</td>\n",
       "      <td>1.681357</td>\n",
       "      <td>1.676689</td>\n",
       "    </tr>\n",
       "    <tr>\n",
       "      <th>7</th>\n",
       "      <td>nsga2_10</td>\n",
       "      <td>avg</td>\n",
       "      <td>2</td>\n",
       "      <td>10</td>\n",
       "      <td>234918</td>\n",
       "      <td>2.693826</td>\n",
       "      <td>2.690697</td>\n",
       "      <td>1.877986</td>\n",
       "      <td>1.877986</td>\n",
       "    </tr>\n",
       "    <tr>\n",
       "      <th>8</th>\n",
       "      <td>nsga2_10</td>\n",
       "      <td>avg</td>\n",
       "      <td>3</td>\n",
       "      <td>10</td>\n",
       "      <td>215878</td>\n",
       "      <td>2.574252</td>\n",
       "      <td>2.571444</td>\n",
       "      <td>1.930997</td>\n",
       "      <td>1.930997</td>\n",
       "    </tr>\n",
       "    <tr>\n",
       "      <th>9</th>\n",
       "      <td>nsga2_10</td>\n",
       "      <td>knnavg</td>\n",
       "      <td>1</td>\n",
       "      <td>10</td>\n",
       "      <td>747437</td>\n",
       "      <td>2.349880</td>\n",
       "      <td>2.291670</td>\n",
       "      <td>1.549868</td>\n",
       "      <td>1.549313</td>\n",
       "    </tr>\n",
       "    <tr>\n",
       "      <th>10</th>\n",
       "      <td>nsga2_10</td>\n",
       "      <td>knnavg</td>\n",
       "      <td>2</td>\n",
       "      <td>10</td>\n",
       "      <td>772350</td>\n",
       "      <td>2.420423</td>\n",
       "      <td>2.364922</td>\n",
       "      <td>0.735727</td>\n",
       "      <td>0.732016</td>\n",
       "    </tr>\n",
       "    <tr>\n",
       "      <th>11</th>\n",
       "      <td>nsga2_10</td>\n",
       "      <td>knnavg</td>\n",
       "      <td>3</td>\n",
       "      <td>10</td>\n",
       "      <td>819026</td>\n",
       "      <td>2.383324</td>\n",
       "      <td>2.323880</td>\n",
       "      <td>1.398498</td>\n",
       "      <td>1.398498</td>\n",
       "    </tr>\n",
       "    <tr>\n",
       "      <th>12</th>\n",
       "      <td>nsga2_100</td>\n",
       "      <td>avg</td>\n",
       "      <td>1</td>\n",
       "      <td>100</td>\n",
       "      <td>46220</td>\n",
       "      <td>1.614617</td>\n",
       "      <td>1.595825</td>\n",
       "      <td>0.707536</td>\n",
       "      <td>0.707536</td>\n",
       "    </tr>\n",
       "    <tr>\n",
       "      <th>13</th>\n",
       "      <td>nsga2_100</td>\n",
       "      <td>avg</td>\n",
       "      <td>2</td>\n",
       "      <td>100</td>\n",
       "      <td>639371</td>\n",
       "      <td>1.518184</td>\n",
       "      <td>1.500994</td>\n",
       "      <td>0.682401</td>\n",
       "      <td>0.682401</td>\n",
       "    </tr>\n",
       "    <tr>\n",
       "      <th>14</th>\n",
       "      <td>nsga2_100</td>\n",
       "      <td>avg</td>\n",
       "      <td>3</td>\n",
       "      <td>100</td>\n",
       "      <td>581194</td>\n",
       "      <td>1.535355</td>\n",
       "      <td>1.508562</td>\n",
       "      <td>0.649319</td>\n",
       "      <td>0.649262</td>\n",
       "    </tr>\n",
       "    <tr>\n",
       "      <th>15</th>\n",
       "      <td>nsga2_100</td>\n",
       "      <td>knnavg</td>\n",
       "      <td>1</td>\n",
       "      <td>100</td>\n",
       "      <td>646104</td>\n",
       "      <td>1.689584</td>\n",
       "      <td>1.449674</td>\n",
       "      <td>0.315849</td>\n",
       "      <td>0.196177</td>\n",
       "    </tr>\n",
       "    <tr>\n",
       "      <th>16</th>\n",
       "      <td>nsga2_100</td>\n",
       "      <td>knnavg</td>\n",
       "      <td>2</td>\n",
       "      <td>100</td>\n",
       "      <td>840267</td>\n",
       "      <td>1.704803</td>\n",
       "      <td>1.498686</td>\n",
       "      <td>0.273562</td>\n",
       "      <td>0.246255</td>\n",
       "    </tr>\n",
       "    <tr>\n",
       "      <th>17</th>\n",
       "      <td>nsga2_100</td>\n",
       "      <td>knnavg</td>\n",
       "      <td>3</td>\n",
       "      <td>100</td>\n",
       "      <td>596656</td>\n",
       "      <td>1.593483</td>\n",
       "      <td>1.458436</td>\n",
       "      <td>0.330263</td>\n",
       "      <td>0.328220</td>\n",
       "    </tr>\n",
       "  </tbody>\n",
       "</table>\n",
       "</div>"
      ],
      "text/plain": [
       "    algorithm problem  n_run  n_gen  timedelta   perf_gd  perf_gd+  perf_igd  \\\n",
       "0       nsga2     avg      1    240     656299  1.331373  1.292831  0.595182   \n",
       "1       nsga2     avg      2    239     271246  1.569757  1.537632  1.098642   \n",
       "2       nsga2     avg      3    240     546441  0.800020  0.756240  0.307375   \n",
       "3       nsga2  knnavg      1    180     851579  1.509993  1.270611  0.292886   \n",
       "4       nsga2  knnavg      2    360     833483  1.674628  1.322090  0.112567   \n",
       "5       nsga2  knnavg      3    260     386418  2.089736  1.660224  0.179841   \n",
       "6    nsga2_10     avg      1     10     241300  2.606226  2.602994  1.681357   \n",
       "7    nsga2_10     avg      2     10     234918  2.693826  2.690697  1.877986   \n",
       "8    nsga2_10     avg      3     10     215878  2.574252  2.571444  1.930997   \n",
       "9    nsga2_10  knnavg      1     10     747437  2.349880  2.291670  1.549868   \n",
       "10   nsga2_10  knnavg      2     10     772350  2.420423  2.364922  0.735727   \n",
       "11   nsga2_10  knnavg      3     10     819026  2.383324  2.323880  1.398498   \n",
       "12  nsga2_100     avg      1    100      46220  1.614617  1.595825  0.707536   \n",
       "13  nsga2_100     avg      2    100     639371  1.518184  1.500994  0.682401   \n",
       "14  nsga2_100     avg      3    100     581194  1.535355  1.508562  0.649319   \n",
       "15  nsga2_100  knnavg      1    100     646104  1.689584  1.449674  0.315849   \n",
       "16  nsga2_100  knnavg      2    100     840267  1.704803  1.498686  0.273562   \n",
       "17  nsga2_100  knnavg      3    100     596656  1.593483  1.458436  0.330263   \n",
       "\n",
       "    perf_igd+  \n",
       "0    0.595182  \n",
       "1    1.094957  \n",
       "2    0.307361  \n",
       "3    0.285628  \n",
       "4    0.061472  \n",
       "5    0.060847  \n",
       "6    1.676689  \n",
       "7    1.877986  \n",
       "8    1.930997  \n",
       "9    1.549313  \n",
       "10   0.732016  \n",
       "11   1.398498  \n",
       "12   0.707536  \n",
       "13   0.682401  \n",
       "14   0.649262  \n",
       "15   0.196177  \n",
       "16   0.246255  \n",
       "17   0.328220  "
      ]
     },
     "metadata": {},
     "execution_count": 27
    }
   ],
   "metadata": {}
  },
  {
   "cell_type": "markdown",
   "source": [
    "The following boxplot indicates that, with the same number of calls to `ZDT1`, KNN-Avg offers a better GD+ performance. However, on the number of generation is fixed or unconstrained, then the averaging method is better."
   ],
   "metadata": {}
  },
  {
   "cell_type": "code",
   "execution_count": null,
   "source": [
    "import seaborn as sns\n",
    "\n",
    "sns.boxplot(\n",
    "    x=\"problem\", \n",
    "    y=\"perf_gd+\", \n",
    "    hue=\"algorithm\",\n",
    "    data=benchmark.final_results(),\n",
    ")"
   ],
   "outputs": [
    {
     "output_type": "execute_result",
     "data": {
      "text/plain": [
       "<AxesSubplot:xlabel='problem', ylabel='perf_gd+'>"
      ]
     },
     "metadata": {},
     "execution_count": 28
    },
    {
     "output_type": "display_data",
     "data": {
      "image/png": "[encoded data removed]",
      "text/plain": [
       "<Figure size 432x288 with 1 Axes>"
      ]
     },
     "metadata": {
      "needs_background": "light"
     }
    }
   ],
   "metadata": {}
  },
  {
   "cell_type": "markdown",
   "source": [
    "The following boxplot depicts the runtimes."
   ],
   "metadata": {}
  },
  {
   "cell_type": "code",
   "execution_count": null,
   "source": [
    "sns.boxplot(\n",
    "    x=\"problem\", \n",
    "    y=\"timedelta\", \n",
    "    hue=\"algorithm\",\n",
    "    data=benchmark.final_results(),\n",
    ")"
   ],
   "outputs": [
    {
     "output_type": "execute_result",
     "data": {
      "text/plain": [
       "<AxesSubplot:xlabel='problem', ylabel='timedelta'>"
      ]
     },
     "metadata": {},
     "execution_count": 29
    },
    {
     "output_type": "display_data",
     "data": {
      "image/png": "[encoded data removed]",
      "text/plain": [
       "<Figure size 432x288 with 1 Axes>"
      ]
     },
     "metadata": {
      "needs_background": "light"
     }
    }
   ],
   "metadata": {}
  }
 ]
}